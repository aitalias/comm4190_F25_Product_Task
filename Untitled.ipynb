{
 "cells": [
  {
   "cell_type": "code",
   "execution_count": null,
   "id": "25bcd3a6-36d8-42b2-a921-2f4208c85b04",
   "metadata": {},
   "outputs": [],
   "source": [
    "from openai import OpenAI\n",
    "import os\n",
    "import base64\n",
    "import requests\n",
    "\n",
    "from collections import Counter\n",
    "\n",
    "from IPython.display import display, Markdown, Image\n",
    "\n",
    "\n",
    "from dotenv import load_dotenv\n",
    "# Load API key\n",
    "_ = load_dotenv()\n"
   ]
  },
  {
   "cell_type": "code",
   "execution_count": null,
   "id": "16cf6628-74b0-4dd0-a3eb-b425383bfb37",
   "metadata": {},
   "outputs": [],
   "source": [
    "def query_LLM(messages=None, prompt=None, model='gpt-4o'):\n",
    "\n",
    "    if messages is None and prompt:\n",
    "        messages = [{ \"role\": \"user\", \"content\": prompt }]\n",
    "    elif messages is None:\n",
    "        return None\n",
    "        \n",
    "    completion = client.chat.completions.create(\n",
    "      model=model,\n",
    "      messages=messages\n",
    "    )\n",
    "    \n",
    "    response = completion.choices[0].message.content\n",
    "\n",
    "    return response"
   ]
  },
  {
   "cell_type": "code",
   "execution_count": null,
   "id": "bd4fed73-bcfa-46c5-9276-9248840ffb23",
   "metadata": {},
   "outputs": [],
   "source": [
    "client = OpenAI()"
   ]
  },
  {
   "cell_type": "code",
   "execution_count": null,
   "id": "9da0eb24-ec39-4efe-a913-30d911665de3",
   "metadata": {},
   "outputs": [],
   "source": [
    "productA = open('productA.md').read()\n",
    "productB = open('productB.md').read()"
   ]
  },
  {
   "cell_type": "code",
   "execution_count": null,
   "id": "20f015cd-1750-448f-a1c9-cf1bfd9b8103",
   "metadata": {},
   "outputs": [],
   "source": [
    "display(Markdown(productA))"
   ]
  },
  {
   "cell_type": "code",
   "execution_count": null,
   "id": "9521348d-518c-4e63-b744-f9e3a6075c51",
   "metadata": {},
   "outputs": [],
   "source": []
  }
 ],
 "metadata": {
  "kernelspec": {
   "display_name": "Python 3-12 (COMM4190)",
   "language": "python",
   "name": "python3-12_comm4190"
  },
  "language_info": {
   "codemirror_mode": {
    "name": "ipython",
    "version": 3
   },
   "file_extension": ".py",
   "mimetype": "text/x-python",
   "name": "python",
   "nbconvert_exporter": "python",
   "pygments_lexer": "ipython3",
   "version": "3.12.11"
  }
 },
 "nbformat": 4,
 "nbformat_minor": 5
}
