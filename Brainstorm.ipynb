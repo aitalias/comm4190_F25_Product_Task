{
 "cells": [
  {
   "cell_type": "raw",
   "id": "a6b98474-c7f9-4fb6-adbe-fc025cf44d46",
   "metadata": {},
   "source": [
    "Name/Slogan Options\n",
    "Duovault - \"Two styles. One Sanctuary.\"\n",
    "Gemini Case - \"Twins in taste. United in elegance\"\n",
    "Split & Shine - \"Designed apart. Brilliant together.\"\n",
    "Mirror Match - \"Your Reflection. Your Collection.\""
   ]
  },
  {
   "cell_type": "markdown",
   "id": "f33c1e2f-bfa6-4a1c-a15e-212df9fd8909",
   "metadata": {},
   "source": [
    "Design Ideas"
   ]
  },
  {
   "cell_type": "markdown",
   "id": "d82f384d-e63d-4137-96c4-07e1ec0242d3",
   "metadata": {},
   "source": [
    "![](Option1.png)"
   ]
  },
  {
   "cell_type": "markdown",
   "id": "d5e17d30-72c5-462f-999a-5e6e1ab31363",
   "metadata": {},
   "source": [
    "![](Option3.png)"
   ]
  },
  {
   "cell_type": "markdown",
   "id": "195fa7c3-abf7-4939-b501-610f29414b4d",
   "metadata": {},
   "source": [
    "![](Option2.png)"
   ]
  },
  {
   "cell_type": "markdown",
   "id": "8c74ade5-4283-4548-8512-37ee58adda40",
   "metadata": {},
   "source": [
    "![](Option4.png)"
   ]
  }
 ],
 "metadata": {
  "kernelspec": {
   "display_name": "Python 3-12 (COMM4190)",
   "language": "python",
   "name": "python3-12_comm4190"
  },
  "language_info": {
   "codemirror_mode": {
    "name": "ipython",
    "version": 3
   },
   "file_extension": ".py",
   "mimetype": "text/x-python",
   "name": "python",
   "nbconvert_exporter": "python",
   "pygments_lexer": "ipython3",
   "version": "3.12.11"
  }
 },
 "nbformat": 4,
 "nbformat_minor": 5
}
