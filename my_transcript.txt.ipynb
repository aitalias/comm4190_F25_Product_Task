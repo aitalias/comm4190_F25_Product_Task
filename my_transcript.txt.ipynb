{
 "cells": [
  {
   "cell_type": "markdown",
   "id": "2cc0ccc2-3bf5-4e06-adeb-79afb87a3ca2",
   "metadata": {},
   "source": [
    "hey nice to meet you nice to meet you too how was your fall break honestly not too exciting i stayed here and worked on my project im a second year masters student so we dont really get a break oh wow thats rough what kind of project are you working on its about chatgpt im studying how people interact with it for one of my research classes thats actually really cool i went to new york with my brother for a few days so it was nice to get away for a bit that sounds amazing ive been meaning to take a trip there but just havent had the time you should its so nice in the fall hopefully youll get a little break soon fingers crossed"
   ]
  }
 ],
 "metadata": {
  "kernelspec": {
   "display_name": "Python 3-12 (COMM4190)",
   "language": "python",
   "name": "python3-12_comm4190"
  },
  "language_info": {
   "codemirror_mode": {
    "name": "ipython",
    "version": 3
   },
   "file_extension": ".py",
   "mimetype": "text/x-python",
   "name": "python",
   "nbconvert_exporter": "python",
   "pygments_lexer": "ipython3",
   "version": "3.12.11"
  }
 },
 "nbformat": 4,
 "nbformat_minor": 5
}
