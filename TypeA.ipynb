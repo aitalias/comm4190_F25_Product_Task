{
 "cells": [
  {
   "cell_type": "code",
   "execution_count": null,
   "id": "da6c9e6c-beaa-4707-8dc9-a29772c8acc2",
   "metadata": {},
   "outputs": [],
   "source": []
  },
  {
   "cell_type": "markdown",
   "id": "089c5700-0e58-4c38-97ec-88370547b93d",
   "metadata": {},
   "source": [
    "![](Option1.png)"
   ]
  }
 ],
 "metadata": {
  "kernelspec": {
   "display_name": "Python 3-12 (COMM4190)",
   "language": "python",
   "name": "python3-12_comm4190"
  },
  "language_info": {
   "codemirror_mode": {
    "name": "ipython",
    "version": 3
   },
   "file_extension": ".py",
   "mimetype": "text/x-python",
   "name": "python",
   "nbconvert_exporter": "python",
   "pygments_lexer": "ipython3",
   "version": "3.12.11"
  }
 },
 "nbformat": 4,
 "nbformat_minor": 5
}
