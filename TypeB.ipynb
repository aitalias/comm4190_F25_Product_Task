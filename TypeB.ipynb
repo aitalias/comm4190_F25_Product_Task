{
 "cells": [
  {
   "cell_type": "raw",
   "id": "c82b060f-9bba-440a-9c12-546d5e4d6246",
   "metadata": {},
   "source": [
    "Name: Treasure Nest\n",
    "Slogan: \"Keep Your Sparkle Safe\""
   ]
  },
  {
   "cell_type": "code",
   "execution_count": 1,
   "id": "23ed6201-4524-423a-954d-da146da461a2",
   "metadata": {},
   "outputs": [
    {
     "ename": "SyntaxError",
     "evalue": "invalid syntax (1277558156.py, line 1)",
     "output_type": "error",
     "traceback": [
      "\u001b[0;36m  Cell \u001b[0;32mIn[1], line 1\u001b[0;36m\u001b[0m\n\u001b[0;31m    Logo:\u001b[0m\n\u001b[0m          ^\u001b[0m\n\u001b[0;31mSyntaxError\u001b[0m\u001b[0;31m:\u001b[0m invalid syntax\n"
     ]
    }
   ],
   "source": [
    "Logo: "
   ]
  },
  {
   "cell_type": "markdown",
   "id": "1838d2fa-223a-4857-bf8a-83255ab3fcaa",
   "metadata": {},
   "source": [
    "![](Option3.png)"
   ]
  }
 ],
 "metadata": {
  "kernelspec": {
   "display_name": "Python 3-12 (COMM4190)",
   "language": "python",
   "name": "python3-12_comm4190"
  },
  "language_info": {
   "codemirror_mode": {
    "name": "ipython",
    "version": 3
   },
   "file_extension": ".py",
   "mimetype": "text/x-python",
   "name": "python",
   "nbconvert_exporter": "python",
   "pygments_lexer": "ipython3",
   "version": "3.12.11"
  }
 },
 "nbformat": 4,
 "nbformat_minor": 5
}
