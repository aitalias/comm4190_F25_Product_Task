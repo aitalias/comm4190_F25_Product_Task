{
 "cells": [
  {
   "cell_type": "markdown",
   "id": "0532d377-64b5-4b58-838a-3ac9bfb764f4",
   "metadata": {},
   "source": [
    "Names: \n",
    "- Treasure Nest\n",
    "- Gilded Keep\n",
    "- Keepsake Co.\n",
    "- Velour Valt\n",
    "- Bijou Haven"
   ]
  },
  {
   "cell_type": "markdown",
   "id": "af295a44-6744-4c0c-ae1d-d1ce88a40015",
   "metadata": {},
   "source": [
    "Slogan ideas: \n",
    "    \"where every jewel finds its home\"\n",
    "    \"because treasures deserve more than a drawer\"\n",
    "    \"keep your sparkle safe\"\n",
    "    \"guardians of your glitter\""
   ]
  },
  {
   "cell_type": "markdown",
   "id": "97121e77-2c6e-43b3-8a73-905ba20d8942",
   "metadata": {},
   "source": [
    "Marketing ideas:\n",
    "\n",
    "Visual style\n",
    "- Soft, muted backgrounds (cream, blush, charcoal, navy) with metallic accents (gold, rose gold).\n",
    "\n",
    "- Macro photography of velvet interiors and jewelry resting inside.\n",
    "\n",
    "- Lifestyle shots: boxes on vanities, dressers, travel scenes.\n",
    "\n",
    "Content Ideas\n",
    "- Instagram/TikTok\n",
    "  “Unboxing” videos showing the jewelry box opening.\n",
    "  Before/after posts: tangled necklaces vs. neatly\n",
    "  stored.\n",
    "  Aesthetic ASMR content (click of lock, velvet touch,\n",
    "  drawers sliding).\n",
    "  “What’s in my jewelry box?” influencer collabs."
   ]
  },
  {
   "cell_type": "markdown",
   "id": "8024e696-217c-4471-a7d8-cad1a7a4573d",
   "metadata": {},
   "source": [
    "![](ss_e26f1618-0c30-4639-bff7-45fa1bb12e28.png)"
   ]
  }
 ],
 "metadata": {
  "kernelspec": {
   "display_name": "Python 3-12 (COMM4190)",
   "language": "python",
   "name": "python3-12_comm4190"
  },
  "language_info": {
   "codemirror_mode": {
    "name": "ipython",
    "version": 3
   },
   "file_extension": ".py",
   "mimetype": "text/x-python",
   "name": "python",
   "nbconvert_exporter": "python",
   "pygments_lexer": "ipython3",
   "version": "3.12.11"
  }
 },
 "nbformat": 4,
 "nbformat_minor": 5
}
