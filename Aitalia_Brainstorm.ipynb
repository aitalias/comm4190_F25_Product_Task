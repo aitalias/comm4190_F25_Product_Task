{
 "cells": [
  {
   "cell_type": "markdown",
   "id": "ff3211f2-37d3-4a89-81a4-421272c9f265",
   "metadata": {},
   "source": [
    "Name/Slogan Options\n",
    "- Duovault - \"Two styles. One Sanctuary.\"\n",
    "- Gemini Case - \"Twins in taste. United in elegance\"\n",
    "- Split & Shine - \"Designed apart. Brilliant together.\"\n",
    "- Mirror Match - \"Your Reflection. Your Collection.\""
   ]
  },
  {
   "cell_type": "markdown",
   "id": "88d421e2-3cf0-4623-a082-94b04b3fb77a",
   "metadata": {},
   "source": [
    "Features to include:\n",
    "- Mirror\n",
    "- Separated compartments for each type of jewelry\n",
    "- Smart technology feature\n",
    "- Can be separated and put together\n",
    "- Hard shell exterior, soft interior to protect different metals\n",
    "- Color Scheme attractive to diverse audiences\n",
    "- compact for easy transport"
   ]
  },
  {
   "cell_type": "markdown",
   "id": "be2cfbbe-8ecf-4e70-943e-ada496cdb035",
   "metadata": {},
   "source": [
    "Target Audiences:\n",
    "- Couples\n",
    "- Bestfriends\n",
    "- Siblings\n",
    "- Parent/Child Pairs"
   ]
  },
  {
   "cell_type": "markdown",
   "id": "79dfbf88-1c9f-4ab9-b428-e316dfcbfdb0",
   "metadata": {},
   "source": [
    "Website Features:\n",
    "- Prototype design\n",
    "- \"Customer\" Testimonials\n",
    "- Highlight unique attributes that separate this product from the competition\n",
    "- Minamilist/attractive logo"
   ]
  },
  {
   "cell_type": "markdown",
   "id": "f33c1e2f-bfa6-4a1c-a15e-212df9fd8909",
   "metadata": {},
   "source": [
    "Design Ideas"
   ]
  },
  {
   "cell_type": "markdown",
   "id": "d82f384d-e63d-4137-96c4-07e1ec0242d3",
   "metadata": {},
   "source": [
    "<img src=\"Product_design1.png\" width=\"50%\"/>"
   ]
  },
  {
   "cell_type": "markdown",
   "id": "195fa7c3-abf7-4939-b501-610f29414b4d",
   "metadata": {},
   "source": [
    "<img src=\"Product_design3.png\" width=\"50%\"/>"
   ]
  }
 ],
 "metadata": {
  "kernelspec": {
   "display_name": "Python 3-12 (COMM4190)",
   "language": "python",
   "name": "python3-12_comm4190"
  },
  "language_info": {
   "codemirror_mode": {
    "name": "ipython",
    "version": 3
   },
   "file_extension": ".py",
   "mimetype": "text/x-python",
   "name": "python",
   "nbconvert_exporter": "python",
   "pygments_lexer": "ipython3",
   "version": "3.12.11"
  }
 },
 "nbformat": 4,
 "nbformat_minor": 5
}
