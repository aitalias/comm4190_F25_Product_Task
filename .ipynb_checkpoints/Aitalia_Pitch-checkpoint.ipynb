{
 "cells": [
  {
   "cell_type": "code",
   "execution_count": 1,
   "id": "17660c41-0c95-4598-9a70-b8bfccf93f31",
   "metadata": {},
   "outputs": [],
   "source": [
    "from openai import OpenAI\n",
    "import os\n",
    "import base64\n",
    "import requests\n",
    "\n",
    "from collections import Counter\n",
    "\n",
    "from IPython.display import display, Markdown, Image\n",
    "\n",
    "\n",
    "from dotenv import load_dotenv\n",
    "# Load API key\n",
    "_ = load_dotenv()"
   ]
  },
  {
   "cell_type": "markdown",
   "id": "511f7ef9-50ac-4ea6-a151-d4f2534a7c5a",
   "metadata": {},
   "source": [
    "# Split & Shine\n",
    "## \"Two styles. One Sanctuary.\""
   ]
  },
  {
   "cell_type": "markdown",
   "id": "9a7fbddd-9692-47a2-b908-425f81570b50",
   "metadata": {},
   "source": [
    "![](Logo1.png)"
   ]
  },
  {
   "cell_type": "code",
   "execution_count": 2,
   "id": "b2867d9f-ca15-4a73-b9dd-d68ea7351792",
   "metadata": {},
   "outputs": [],
   "source": [
    "Aitalia_pitch = open('Aitalia_Pitch.md').read()"
   ]
  },
  {
   "cell_type": "code",
   "execution_count": 3,
   "id": "eff25b8c-8ebd-4192-8b55-66fa92cd2baf",
   "metadata": {},
   "outputs": [
    {
     "data": {
      "text/markdown": [
       "**Introducing Split & Shine: Experience accessorizing like you never have before!**\n",
       "\n",
       "Split & Shine is not just a jewelry box...it's a shared experience. Crafted for couples who celebrate both their unique styles and their shared journey, this modular storage system offers two distinct compartments that can be used separately or joined seamlessly for travel, display, or safekeeping.\n",
       "\n",
       "Whether you're storing vintage watches, heirloom rings, or everyday earrings, Split & Shine honors your individuality while keeping you connected.\n",
       "\n",
       "**Sparkling Features**\n",
       "- Memory Capsule Drawer - A compartment for notes and small surprises, perfect for a spontaneous surprise\n",
       "- QR-Linked Story Cards: Scan the code to leave a picture and caption showing your partner your newest look\n",
       "- Travel Mode Toggle: A Switch to compress both compartments for compact travelling\n",
       "- Eco-Luxe Materials: Ethically-sourced vegan leather with accents made of recycled materials\n",
       "\n",
       "**Smart Style**\n",
       "Upload a photo of your outfit, and let Split & Shine’s Smart Style Matching feature do the rest. Using visual cues like color, neckline, and occasion, it recommends the ideal accessories from your jewelry box—so you never second-guess your sparkle. Whether you're dressing for brunch or a black-tie gala, your look gets the finishing touch it deserves.\n",
       "**Your outfit. Your vibe. Perfectly paired.**\n",
       "\n",
       "![](Option1.png)\n",
       "\n",
       "**Reviews From Our Shining Stars**\n",
       "- 🌟 “Finally, a jewelry box that understands us.” \"My partner and I have totally different styles. He’s all bold metals, I’m delicate golds. Split & Shine lets us organize our accessories separately while still feeling connected. The magnetic merge is genius for travel, and the Memory Capsule drawer? We tucked our wedding vows in there. It’s more than storage. It’s part of our story.\" — Jasmine & Theo, Brooklyn, NY\n",
       "- 🌟 “The outfit-matching feature is my new obsession.” \"I used to spend forever deciding which earrings worked with my outfit. Now I just upload a pic and Split & Shine recommends the perfect combo. It’s like having a stylist in my pocket. Plus, the LED mirror lighting makes getting ready feel like a mini glam session.\" — Maya R., Atlanta, GA\n",
       "- 🌟 “Gifted it to my sister. Now I want one too.” \"We live together and always borrow each other’s accessories. I got Split & Shine for her birthday, and now we each have our own side but can snap it together when we travel. The eco-luxe materials feel so premium, and the QR story card made the gift super personal. I’m ordering mine next week!\" — Devon L., Seattle, WA\n",
       "\n",
       "**We're a succes nationwide!**\n",
       "\n",
       "**FAQ's**\n",
       "- Can it be locked?\n",
       "    - Yes, each co,partment has it's own separate lock to keep valuable items safe\n",
       "- Do you offer personalization?\n",
       "    - Absolutely! You can add colors, additional featues, pictures, writing, or a tailored interior to make this case for your most special things even more special.\n",
       "- Is this product only for romantic partners?\n",
       "    - It's for everyone! Siblings, besties, and more!\n",
       "      \n",
       "**\"Split & Shine - Two Styles. One sanctuary.\"\n",
       "Let us help you sparkle!**"
      ],
      "text/plain": [
       "<IPython.core.display.Markdown object>"
      ]
     },
     "metadata": {},
     "output_type": "display_data"
    }
   ],
   "source": [
    "display(Markdown(Aitalia_pitch))"
   ]
  }
 ],
 "metadata": {
  "kernelspec": {
   "display_name": "Python 3-12 (COMM4190)",
   "language": "python",
   "name": "python3-12_comm4190"
  },
  "language_info": {
   "codemirror_mode": {
    "name": "ipython",
    "version": 3
   },
   "file_extension": ".py",
   "mimetype": "text/x-python",
   "name": "python",
   "nbconvert_exporter": "python",
   "pygments_lexer": "ipython3",
   "version": "3.12.11"
  }
 },
 "nbformat": 4,
 "nbformat_minor": 5
}
