{
 "cells": [
  {
   "cell_type": "markdown",
   "id": "6531b6b5-a0bc-45e6-b13d-bf5a447ef298",
   "metadata": {},
   "source": [
    "## **Name Rating**"
   ]
  },
  {
   "cell_type": "markdown",
   "id": "ec996f18-f247-48a3-9974-2f414db8156d",
   "metadata": {},
   "source": [
    "![](LLMEval1.png)"
   ]
  },
  {
   "cell_type": "markdown",
   "id": "08def4ad-68a7-4457-ac83-2c6a732cc752",
   "metadata": {},
   "source": [
    "## **Slogan Rating**"
   ]
  },
  {
   "cell_type": "markdown",
   "id": "232d64d5-0bbf-44ec-8381-a53d7ef2965a",
   "metadata": {},
   "source": [
    "![](LLMEval2.png)"
   ]
  },
  {
   "cell_type": "markdown",
   "id": "ff4e8e38-6912-4040-bd92-34b4a359ffca",
   "metadata": {},
   "source": [
    "## **Slogan Pairings**"
   ]
  },
  {
   "cell_type": "markdown",
   "id": "ebfd3f03-f97b-4101-9ac5-1169bdfec4a5",
   "metadata": {},
   "source": [
    "![](LLMEval3.png)"
   ]
  },
  {
   "cell_type": "markdown",
   "id": "baa26ab5-c9cb-4a97-8113-6cf461859462",
   "metadata": {},
   "source": [
    "## **Proposed Features**"
   ]
  },
  {
   "cell_type": "markdown",
   "id": "df227299-8063-4505-892c-6fffc779632f",
   "metadata": {},
   "source": [
    "![](LLMEval4.png)"
   ]
  }
 ],
 "metadata": {
  "kernelspec": {
   "display_name": "Python 3 (ipykernel)",
   "language": "python",
   "name": "python3"
  },
  "language_info": {
   "codemirror_mode": {
    "name": "ipython",
    "version": 3
   },
   "file_extension": ".py",
   "mimetype": "text/x-python",
   "name": "python",
   "nbconvert_exporter": "python",
   "pygments_lexer": "ipython3",
   "version": "3.10.12"
  }
 },
 "nbformat": 4,
 "nbformat_minor": 5
}
